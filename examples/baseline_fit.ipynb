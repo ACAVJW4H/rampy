{
 "cells": [
  {
   "cell_type": "markdown",
   "metadata": {},
   "source": [
    "# Quick example to fit a baseline\n",
    "\n",
    "Signal is not standardized in rampy contrary to Spectra.jl, so behavior of splines can differ for the same smoothing coefficients."
   ]
  },
  {
   "cell_type": "code",
   "execution_count": 1,
   "metadata": {
    "collapsed": false
   },
   "outputs": [
    {
     "name": "stdout",
     "output_type": "stream",
     "text": [
      "Populating the interactive namespace from numpy and matplotlib\n"
     ]
    }
   ],
   "source": [
    "%pylab inline\n",
    "import sys\n",
    "sys.path.append(\"../\")\n",
    "import numpy as np\n",
    "import scipy\n",
    "from matplotlib import pyplot as plt\n",
    "import gcvspline\n",
    "import rampy"
   ]
  },
  {
   "cell_type": "code",
   "execution_count": 2,
   "metadata": {
    "collapsed": false
   },
   "outputs": [
    {
     "data": {
      "text/plain": [
       "[<matplotlib.lines.Line2D at 0x10d16f050>]"
      ]
     },
     "execution_count": 2,
     "metadata": {},
     "output_type": "execute_result"
    },
    {
     "data": {
      "image/png": "[encoded data removed]",
      "text/plain": [
       "<matplotlib.figure.Figure at 0x10cd44fd0>"
      ]
     },
     "metadata": {},
     "output_type": "display_data"
    }
   ],
   "source": [
    "nb_points  =500\n",
    "x = np.linspace(100, 200, nb_points)\n",
    "y_true = 10.0 * np.exp(-np.log(2) * ((x-150.0)/15.0)**2) + 0.1*x\n",
    "\n",
    "noise = 0.1 * np.random.normal(size=nb_points)\n",
    "\n",
    "y_obs = y_true + noise \n",
    "\n",
    "plot(x,y_obs,\"r-\")"
   ]
  },
  {
   "cell_type": "markdown",
   "metadata": {},
   "source": [
    "# Baseline with the gcvsplione library \n",
    "\n",
    "get it with pip install gcvspline"
   ]
  },
  {
   "cell_type": "code",
   "execution_count": 3,
   "metadata": {
    "collapsed": false
   },
   "outputs": [],
   "source": [
    "spectrum = np.transpose(np.vstack((x,y_obs)))\n",
    "roi = np.array([[100,110],[190,200]])\n",
    "ycalc, base, coefs = rampy.baseline(spectrum,roi,'gcvspline',2.0 )"
   ]
  },
  {
   "cell_type": "code",
   "execution_count": 4,
   "metadata": {
    "collapsed": false
   },
   "outputs": [
    {
     "data": {
      "text/plain": [
       "<matplotlib.text.Text at 0x10d21dc90>"
      ]
     },
     "execution_count": 4,
     "metadata": {},
     "output_type": "execute_result"
    },
    {
     "data": {
      "image/png": "[encoded data removed]",
      "text/plain": [
       "<matplotlib.figure.Figure at 0x103ff8f90>"
      ]
     },
     "metadata": {},
     "output_type": "display_data"
    }
   ],
   "source": [
    "plot(spectrum[:,0],spectrum[:,1],\"k-\",label=\"Raw\")\n",
    "plot(base[:,0],base[:,1],\"r-\",label=\"Baseline\")\n",
    "plot(ycalc[:,0],ycalc[:,1],\"g-\",label=\"Corrected\")\n",
    "xlabel(\"X\")\n",
    "ylabel(\"Y\")"
   ]
  },
  {
   "cell_type": "code",
   "execution_count": 5,
   "metadata": {
    "collapsed": false
   },
   "outputs": [
    {
     "name": "stdout",
     "output_type": "stream",
     "text": [
      "Help on function baseline in module rampy.baseline:\n",
      "\n",
      "baseline(spectre, bir, method, splinesmooth)\n",
      "    This function allows subtracting a baseline under the spectra\n",
      "    spectre is a spectrum or an array of spectra constructed with the spectrarray function\n",
      "    bir contains the Background Interpolation Regions, it must be a n x 2 dimensiona rray\n",
      "    \n",
      "    Inputs\n",
      "    ------\n",
      "    \n",
      "        Spectre: Array with 2 or more columns. First column contain x axis, subsequent columns contains y values. If using gcvspline, only treat a spectrum at a call, third column can contain known ese.\n",
      "    \n",
      "        bir: an Array containing the regions of interest, organised per line. for instance, roi = np.array([[100., 200.],[500.,600.]]) will define roi between 100 and 200 as well as between 500 and 600,.\n",
      "    \n",
      "        methods:\n",
      "    \n",
      "    \"linear\": linear baseline, with spectre = array[x y];\n",
      "    \"hori': constant baseline, fitted at the minimum in the provided region of spectra. Splinesmooth in this case is the 1/2 extent of the region where the mean minimum is calculated;\n",
      "    \"unispline\": spline with the UnivariateSpline function of Scipy, splinesmooth is the spline smoothing factor (assume equal weight in the present case);\n",
      "    \"gcvspline\": spline with the gcvspl.f algorythm, really robust. Spectra must have x, y, ese in it, and splinesmooth is the smoothing factor;\n",
      "    for gcvspline, if ese are not provided we assume ese = sqrt(y);\n",
      "    \"poly\": polynomial fitting, with splinesmooth the degree of the polynomial.\n",
      "    \n",
      "    Outputs\n",
      "    -------\n",
      "    \n",
      "        out1: an 2 columns x-y array containing the corrected signal\n",
      "    \n",
      "        out2: an 2 columns x-y array containing the baseline\n",
      "    \n",
      "        coefs: contains spline coefficients.\n",
      "\n"
     ]
    }
   ],
   "source": [
    "help(rampy.baseline)"
   ]
  },
  {
   "cell_type": "code",
   "execution_count": null,
   "metadata": {
    "collapsed": true
   },
   "outputs": [],
   "source": []
  }
 ],
 "metadata": {
  "kernelspec": {
   "display_name": "Python 2",
   "language": "python",
   "name": "python2"
  },
  "language_info": {
   "codemirror_mode": {
    "name": "ipython",
    "version": 2
   },
   "file_extension": ".py",
   "mimetype": "text/x-python",
   "name": "python",
   "nbconvert_exporter": "python",
   "pygments_lexer": "ipython2",
   "version": "2.7.11"
  }
 },
 "nbformat": 4,
 "nbformat_minor": 0
}
