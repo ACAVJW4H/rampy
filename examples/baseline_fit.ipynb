{
 "cells": [
  {
   "cell_type": "markdown",
   "metadata": {},
   "source": [
    "# Quick example to fit a baseline\n",
    "\n",
    "Signal is not standardized in rampy contrary to Spectra.jl, so behavior of splines can differ for the same smoothing coefficients."
   ]
  },
  {
   "cell_type": "code",
   "execution_count": 1,
   "metadata": {},
   "outputs": [
    {
     "name": "stdout",
     "output_type": "stream",
     "text": [
      "Populating the interactive namespace from numpy and matplotlib\n"
     ]
    }
   ],
   "source": [
    "%pylab inline\n",
    "#import sys\n",
    "#sys.path.append(\"../\")\n",
    "import numpy as np\n",
    "import scipy\n",
    "from matplotlib import pyplot as plt\n",
    "#import gcvspline\n",
    "import rampy"
   ]
  },
  {
   "cell_type": "code",
   "execution_count": 2,
   "metadata": {},
   "outputs": [
    {
     "data": {
      "text/plain": [
       "[<matplotlib.lines.Line2D at 0x7f62f75c9390>]"
      ]
     },
     "execution_count": 2,
     "metadata": {},
     "output_type": "execute_result"
    },
    {
     "data": {
      "image/png": "[encoded data removed]",
      "text/plain": [
       "<matplotlib.figure.Figure at 0x7f62f76604a8>"
      ]
     },
     "metadata": {},
     "output_type": "display_data"
    }
   ],
   "source": [
    "nb_points  =500\n",
    "x = np.linspace(50, 500, nb_points)\n",
    "\n",
    "# gaussian peaks\n",
    "p1 = 20.0 * np.exp(-np.log(2) * ((x-150.0)/15.0)**2)\n",
    "p2 = 100.0 * np.exp(-np.log(2) * ((x-250.0)/5.0)**2)\n",
    "p3 = 50.0 * np.exp(-np.log(2) * ((x-450.0)/1.0)**2)\n",
    "p4 = 20.0 * np.exp(-np.log(2) * ((x-350.0)/30.0)**2)\n",
    "p5 = 30.0 * np.exp(-np.log(2) * ((x-460.0)/5.0)**2)\n",
    "\n",
    "# background: a large gaussian + linear \n",
    "bkg = 60.0 * np.exp(-np.log(2) * ((x-250.0)/200.0)**2) + 0.1*x\n",
    "\n",
    "#noise\n",
    "noise = 2.0 * np.random.normal(size=nb_points)\n",
    "\n",
    "#observation\n",
    "y_obs = p1 + p2 + p3 + p4 + p5 + noise +bkg\n",
    "\n",
    "plot(x,y_obs,\"r-\")"
   ]
  },
  {
   "cell_type": "markdown",
   "metadata": {},
   "source": [
    "# Different baseline examples"
   ]
  },
  {
   "cell_type": "code",
   "execution_count": 5,
   "metadata": {},
   "outputs": [
    {
     "ename": "TypeError",
     "evalue": "float() argument must be a string or a number, not 'zip'",
     "output_type": "error",
     "traceback": [
      "\u001b[0;31m---------------------------------------------------------------------------\u001b[0m",
      "\u001b[0;31mTypeError\u001b[0m                                 Traceback (most recent call last)",
      "\u001b[0;32m<ipython-input-5-490b4c561161>\u001b[0m in \u001b[0;36m<module>\u001b[0;34m()\u001b[0m\n\u001b[1;32m      6\u001b[0m \u001b[0;34m\u001b[0m\u001b[0m\n\u001b[1;32m      7\u001b[0m \u001b[0mycalc_gcvspl\u001b[0m\u001b[0;34m,\u001b[0m \u001b[0mbase_gcvspl\u001b[0m \u001b[0;34m=\u001b[0m \u001b[0mrampy\u001b[0m\u001b[0;34m.\u001b[0m\u001b[0mbaseline\u001b[0m\u001b[0;34m(\u001b[0m\u001b[0mspectrum\u001b[0m\u001b[0;34m,\u001b[0m\u001b[0mroi\u001b[0m\u001b[0;34m,\u001b[0m\u001b[0;34m'gcvspline'\u001b[0m\u001b[0;34m,\u001b[0m\u001b[0ms\u001b[0m\u001b[0;34m=\u001b[0m\u001b[0;36m100.0\u001b[0m \u001b[0;34m)\u001b[0m\u001b[0;34m\u001b[0m\u001b[0m\n\u001b[0;32m----> 8\u001b[0;31m \u001b[0mycalc_rub\u001b[0m\u001b[0;34m,\u001b[0m \u001b[0mbase_rub\u001b[0m \u001b[0;34m=\u001b[0m \u001b[0mrampy\u001b[0m\u001b[0;34m.\u001b[0m\u001b[0mbaseline\u001b[0m\u001b[0;34m(\u001b[0m\u001b[0mspectrum\u001b[0m\u001b[0;34m,\u001b[0m\u001b[0mroi\u001b[0m\u001b[0;34m,\u001b[0m\u001b[0;34m'rubberband'\u001b[0m\u001b[0;34m)\u001b[0m\u001b[0;34m\u001b[0m\u001b[0m\n\u001b[0m\u001b[1;32m      9\u001b[0m \u001b[0mycalc_als\u001b[0m\u001b[0;34m,\u001b[0m \u001b[0mbase_als\u001b[0m \u001b[0;34m=\u001b[0m \u001b[0mrampy\u001b[0m\u001b[0;34m.\u001b[0m\u001b[0mbaseline\u001b[0m\u001b[0;34m(\u001b[0m\u001b[0mspectrum\u001b[0m\u001b[0;34m,\u001b[0m\u001b[0mroi\u001b[0m\u001b[0;34m,\u001b[0m\u001b[0;34m'als'\u001b[0m\u001b[0;34m,\u001b[0m\u001b[0mlam\u001b[0m\u001b[0;34m=\u001b[0m\u001b[0;36m10\u001b[0m\u001b[0;34m**\u001b[0m\u001b[0;36m6\u001b[0m\u001b[0;34m,\u001b[0m\u001b[0mp\u001b[0m\u001b[0;34m=\u001b[0m\u001b[0;36m0.05\u001b[0m\u001b[0;34m)\u001b[0m\u001b[0;34m\u001b[0m\u001b[0m\n\u001b[1;32m     10\u001b[0m \u001b[0mycalc_arpls\u001b[0m\u001b[0;34m,\u001b[0m \u001b[0mbase_arpsl\u001b[0m \u001b[0;34m=\u001b[0m \u001b[0mrampy\u001b[0m\u001b[0;34m.\u001b[0m\u001b[0mbaseline\u001b[0m\u001b[0;34m(\u001b[0m\u001b[0mspectrum\u001b[0m\u001b[0;34m,\u001b[0m\u001b[0mroi\u001b[0m\u001b[0;34m,\u001b[0m\u001b[0;34m'arPLS'\u001b[0m\u001b[0;34m,\u001b[0m\u001b[0mlam\u001b[0m\u001b[0;34m=\u001b[0m\u001b[0;36m10\u001b[0m\u001b[0;34m**\u001b[0m\u001b[0;36m6\u001b[0m\u001b[0;34m,\u001b[0m\u001b[0mratio\u001b[0m\u001b[0;34m=\u001b[0m\u001b[0;36m0.001\u001b[0m\u001b[0;34m)\u001b[0m\u001b[0;34m\u001b[0m\u001b[0m\n",
      "\u001b[0;32m/opt/conda/lib/python3.5/site-packages/rampy/baseline.py\u001b[0m in \u001b[0;36mbaseline\u001b[0;34m(spectre, bir, method, **kwargs)\u001b[0m\n\u001b[1;32m    199\u001b[0m \u001b[0;34m\u001b[0m\u001b[0m\n\u001b[1;32m    200\u001b[0m         \u001b[0;31m# Find the convex hull\u001b[0m\u001b[0;34m\u001b[0m\u001b[0;34m\u001b[0m\u001b[0m\n\u001b[0;32m--> 201\u001b[0;31m         \u001b[0mv\u001b[0m \u001b[0;34m=\u001b[0m \u001b[0mConvexHull\u001b[0m\u001b[0;34m(\u001b[0m\u001b[0mnp\u001b[0m\u001b[0;34m.\u001b[0m\u001b[0marray\u001b[0m\u001b[0;34m(\u001b[0m\u001b[0mzip\u001b[0m\u001b[0;34m(\u001b[0m\u001b[0mx\u001b[0m\u001b[0;34m,\u001b[0m \u001b[0my\u001b[0m\u001b[0;34m)\u001b[0m\u001b[0;34m)\u001b[0m\u001b[0;34m)\u001b[0m\u001b[0;34m.\u001b[0m\u001b[0mvertices\u001b[0m\u001b[0;34m\u001b[0m\u001b[0m\n\u001b[0m\u001b[1;32m    202\u001b[0m \u001b[0;34m\u001b[0m\u001b[0m\n\u001b[1;32m    203\u001b[0m         \u001b[0;31m# Rotate convex hull vertices until they start from the lowest one\u001b[0m\u001b[0;34m\u001b[0m\u001b[0;34m\u001b[0m\u001b[0m\n",
      "\u001b[0;32mscipy/spatial/qhull.pyx\u001b[0m in \u001b[0;36mscipy.spatial.qhull.ConvexHull.__init__ (scipy/spatial/qhull.c:23967)\u001b[0;34m()\u001b[0m\n",
      "\u001b[0;32m/opt/conda/lib/python3.5/site-packages/numpy/core/numeric.py\u001b[0m in \u001b[0;36mascontiguousarray\u001b[0;34m(a, dtype)\u001b[0m\n\u001b[1;32m    618\u001b[0m \u001b[0;34m\u001b[0m\u001b[0m\n\u001b[1;32m    619\u001b[0m     \"\"\"\n\u001b[0;32m--> 620\u001b[0;31m     \u001b[0;32mreturn\u001b[0m \u001b[0marray\u001b[0m\u001b[0;34m(\u001b[0m\u001b[0ma\u001b[0m\u001b[0;34m,\u001b[0m \u001b[0mdtype\u001b[0m\u001b[0;34m,\u001b[0m \u001b[0mcopy\u001b[0m\u001b[0;34m=\u001b[0m\u001b[0;32mFalse\u001b[0m\u001b[0;34m,\u001b[0m \u001b[0morder\u001b[0m\u001b[0;34m=\u001b[0m\u001b[0;34m'C'\u001b[0m\u001b[0;34m,\u001b[0m \u001b[0mndmin\u001b[0m\u001b[0;34m=\u001b[0m\u001b[0;36m1\u001b[0m\u001b[0;34m)\u001b[0m\u001b[0;34m\u001b[0m\u001b[0m\n\u001b[0m\u001b[1;32m    621\u001b[0m \u001b[0;34m\u001b[0m\u001b[0m\n\u001b[1;32m    622\u001b[0m \u001b[0;34m\u001b[0m\u001b[0m\n",
      "\u001b[0;31mTypeError\u001b[0m: float() argument must be a string or a number, not 'zip'"
     ]
    }
   ],
   "source": [
    "spectrum = np.transpose(np.vstack((x,y_obs)))\n",
    "\n",
    "# need to define some fitting regions for the spline\n",
    "roi = np.array([[0,100],[200,220],[280, 290],[420,430],[480,500]])\n",
    "\n",
    "\n",
    "ycalc_gcvspl, base_gcvspl = rampy.baseline(spectrum,roi,'gcvspline',s=100.0 )\n",
    "ycalc_rub, base_rub = rampy.baseline(spectrum,roi,'rubberband')\n",
    "ycalc_als, base_als = rampy.baseline(spectrum,roi,'als',lam=10**6,p=0.05)\n",
    "ycalc_arpls, base_arpsl = rampy.baseline(spectrum,roi,'arPLS',lam=10**6,ratio=0.001)\n",
    "\n",
    "figure(figsize=(10,10))\n",
    "plot(spectrum[:,0],spectrum[:,1],\"k-\",label=\"Raw\")\n",
    "plot(base_gcvspl[:,0],base_gcvspl[:,1],\"r-\",label=\"gcvspline baseline\")\n",
    "#plot(base_rub[:,0],base_rub[:,1],\"b-\",label=\"rubberband baseline\")\n",
    "plot(base_als[:,0],base_als[:,1],\"-\",color=\"purple\",label=\"als baseline\")\n",
    "plot(base_arpsl[:,0],base_arpsl[:,1],\"-.\",color=\"cyan\",label=\"arPLS baseline\")\n",
    "\n",
    "xlabel(\"X\")\n",
    "ylabel(\"Y\")"
   ]
  },
  {
   "cell_type": "code",
   "execution_count": 35,
   "metadata": {},
   "outputs": [
    {
     "name": "stdout",
     "output_type": "stream",
     "text": [
      "Help on function baseline in module rampy.baseline:\n",
      "\n",
      "baseline(spectre, bir, method, **kwargs)\n",
      "    This function allows subtracting a baseline under the spectra\n",
      "    spectre is a spectrum or an array of spectra constructed with the spectrarray function\n",
      "    bir contains the Background Interpolation Regions, it must be a n x 2 dimensiona rray\n",
      "    \n",
      "    Inputs\n",
      "    ------\n",
      "    \n",
      "        Spectre: Array with 2 or more columns. First column contain x axis, subsequent columns contains y values. If using gcvspline, only treat a spectrum at a call, third column can contain known ese.\n",
      "    \n",
      "        bir: an Array containing the regions of interest, organised per line. for instance, roi = np.array([[100., 200.],[500.,600.]]) will define roi between 100 and 200 as well as between 500 and 600,.\n",
      "    \n",
      "        methods:\n",
      "    \n",
      "    \"linear\": linear baseline, with spectre = array[x y];\n",
      "    \"hori': constant baseline, fitted at the minimum in the provided region of spectra. Splinesmooth in this case is the 1/2 extent of the region where the mean minimum is calculated;\n",
      "    \"unispline\": spline with the UnivariateSpline function of Scipy, splinesmooth is the spline smoothing factor (assume equal weight in the present case);\n",
      "    \"gcvspline\": spline with the gcvspl.f algorythm, really robust. Spectra must have x, y, ese in it, and splinesmooth is the smoothing factor;\n",
      "    for gcvspline, if ese are not provided we assume ese = sqrt(y);\n",
      "    \"poly\": polynomial fitting, with splinesmooth the degree of the polynomial.\n",
      "    \"rubberband\": rubberband baseline fitting\n",
      "    \"als\": automatic least square fitting following Eilers and Boelens 2005.\n",
      "    \"arPLS\": automatic baseline fit using the algorithm from Baek et al. 2015 Baseline correction using asymmetrically reweighted penalized least suqares smoothing, Analyst 140: 250-257.\n",
      "    \n",
      "    Options\n",
      "    -------\n",
      "    \n",
      "        Options for the ALS algorithm are:\n",
      "    \n",
      "        lambda: float, between 10**2 to 10**9, default = 10**5\n",
      "        p: float, advised value between 0.001 to 0.1, default = 0.01\n",
      "        niter: number of iteration, default = 10\n",
      "    \n",
      "        Options for the ALS algorithm are:\n",
      "    \n",
      "        lam: float, the lambda smoothness parameter. Typical values are between 10**2 to 10**9, default = 10**5\n",
      "        ratio = float, the termination ratio. Set it high to start and lower it. Default = 0.01.\n",
      "    \n",
      "        Options for the unispline and gcvspline algorithms are:\n",
      "    \n",
      "        s: smoothing coefficient, the higher the more smooth.\n",
      "    \n",
      "    Outputs\n",
      "    -------\n",
      "    \n",
      "        out1: an 2 columns x-y array containing the corrected signal\n",
      "    \n",
      "        out2: an 2 columns x-y array containing the baseline\n",
      "    \n",
      "        coefs: contains spline coefficients.\n",
      "\n"
     ]
    }
   ],
   "source": [
    "help(rampy.baseline)"
   ]
  },
  {
   "cell_type": "code",
   "execution_count": null,
   "metadata": {
    "collapsed": true
   },
   "outputs": [],
   "source": []
  }
 ],
 "metadata": {
  "kernelspec": {
   "display_name": "Python 3",
   "language": "python",
   "name": "python3"
  },
  "language_info": {
   "codemirror_mode": {
    "name": "ipython",
    "version": 3
   },
   "file_extension": ".py",
   "mimetype": "text/x-python",
   "name": "python",
   "nbconvert_exporter": "python",
   "pygments_lexer": "ipython3",
   "version": "3.5.2"
  }
 },
 "nbformat": 4,
 "nbformat_minor": 1
}
