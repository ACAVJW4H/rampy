{
 "cells": [
  {
   "cell_type": "markdown",
   "metadata": {},
   "source": [
    "# Example of the mlexplorer() function \n",
    "\n",
    "Author: Charles Le Losq\n",
    "\n",
    "**The `rampy.mlexplorer` class allows to explore sets of spectroscopic data with using principal component analysis or non-negative matrix factorization for instance.\n",
    "\n",
    "It performs automatic data scaling and provides access to popular data mining algorithms from scikit-learn."
   ]
  },
  {
   "cell_type": "code",
   "execution_count": 29,
   "metadata": {},
   "outputs": [],
   "source": [
    "%matplotlib inline\n",
    "import numpy as np\n",
    "np.random.seed(42) # fixing the seed\n",
    "import matplotlib\n",
    "import matplotlib.pyplot as plt\n",
    "import rampy as rp\n",
    "from scipy.stats import norm\n",
    "\n",
    "from sklearn.decomposition import PCA, NMF\n",
    "import sklearn"
   ]
  },
  {
   "cell_type": "code",
   "execution_count": 45,
   "metadata": {},
   "outputs": [],
   "source": [
    "class mlexplorer:\n",
    "    \"\"\"use machine learning algorithms from scikit learn to explore spectroscopic datasets\n",
    "\n",
    "\n",
    "    Attributes\n",
    "    ----------\n",
    "    x : {array-like, sparse matrix}, shape = (n_samples, n_features)\n",
    "        Spectra; n_features = n_frequencies.\n",
    "    X_test : {array-like, sparse matrix}, shape = (n_samples, n_features)\n",
    "        spectra organised in rows (1 row = one spectrum) that you want to use as a testing dataset. THose spectra should not be present in the x (training) dataset. The spectra should share a common X axis.\n",
    "    algorithm : String,\n",
    "        \"PCA\", \"NMF\", default = \"PCA\"\n",
    "    scaling : Bool\n",
    "        True or False. If True, data will be scaled prior to fitting (see below),\n",
    "    scaler : String\n",
    "        the type of scaling performed. Choose between MinMaxScaler or StandardScaler, see http://scikit-learn.org/stable/modules/preprocessing.html for details. Default = \"MinMaxScaler\".\n",
    "    test_size : float\n",
    "        the fraction of the dataset to use as a testing dataset; only used if X_test and y_test are not provided.\n",
    "    rand_state : Float64\n",
    "        the random seed that is used for reproductibility of the results. Default = 42.\n",
    "    model : Scikit learn model\n",
    "        A Scikit Learn object model, see scikit learn library documentation.\n",
    "    X_scaler :\n",
    "        A Scikit Learn scaler object for the x values.\n",
    "    Y_scaler :\n",
    "        A Scikit Learn scaler object for the y values.\n",
    "\n",
    "    Remarks\n",
    "    -------\n",
    "\n",
    "    For details on hyperparameters of each algorithms, please directly consult the documentation of SciKit Learn at:\n",
    "\n",
    "    http://scikit-learn.org/stable/\n",
    "\n",
    "    Results for machine learning algorithms can vary from run to run. A way to solve that is to fix the random_state. \n",
    "    \n",
    "    \"\"\"\n",
    "\n",
    "    def __init__(self,x,**kwargs):\n",
    "        \"\"\"\n",
    "        Parameters\n",
    "        ----------\n",
    "        x : array{Float64}\n",
    "            the spectra organised in rows (1 row = one spectrum). The spectra should share a common X axis.\n",
    "        \"\"\"\n",
    "        self.x = x\n",
    "        #\n",
    "        # Kwargs extractions\n",
    "        #\n",
    "        self.X_test = kwargs.get(\"X_test\",[0.0])\n",
    "        self.algorithm = kwargs.get(\"algorithm\",\"PCA\")\n",
    "        self.test_sz = kwargs.get(\"test_size\",0.3)\n",
    "        self.scaling = kwargs.get(\"scaling\",True)\n",
    "        self.scaler = kwargs.get(\"scaler\",\"MinMaxScaler\")\n",
    "        self.rand_state = kwargs.get(\"rand_state\",42)\n",
    "        self.nb_compo = kwargs.get(\"n_components\",None)\n",
    "\n",
    "        # hyperparameters for the algorithms\n",
    "        #self.user_kernel = kwargs.get(\"kernel\",\"rbf\")\n",
    "        #self.param_kr = kwargs.get(\n",
    "        #    \"param_kr\",dict(alpha=[1e1, 1e0, 0.5, 0.1, 5e-2, 1e-2, 5e-3, 1e-3],gamma=np.logspace(-4, 4, 9)))\n",
    "\n",
    "        #self.param_svm= kwargs.get(\n",
    "        #    \"param_svm\",dict(C= [1e0, 2e0, 5e0, 1e1, 5e1, 1e2, 5e2, 1e3, 5e3, 1e4, 5e4, 1e5], gamma= np.logspace(-4, 4, 9)))\n",
    "\n",
    "        if len(self.X_test) == 1:\n",
    "            self.X_train, self.X_test = sklearn.model_selection.train_test_split(\n",
    "            self.x, test_size=self.test_sz, random_state=self.rand_state)\n",
    "        elif self.X_test.shape[1] == self.x.shape[1]:\n",
    "            self.X_train = np.copy(self.x)\n",
    "        else:\n",
    "            ValueError(\"You tried to provide a testing dataset that has a different number of features (in columns) than the training set. Please correct this.\")\n",
    "\n",
    "        # initialising the preprocessor scaler\n",
    "        if self.scaler == \"StandardScaler\":\n",
    "            self.X_scaler = sklearn.preprocessing.StandardScaler()\n",
    "        elif self.scaler == \"MinMaxScaler\":\n",
    "            self.X_scaler = sklearn.preprocessing.MinMaxScaler()\n",
    "        else:\n",
    "            InputError(\"Choose the scaler between MinMaxScaler and StandardScaler\")\n",
    "\n",
    "    def fit(self):\n",
    "        \"\"\"Train the model with the indicated algorithm.\n",
    "\n",
    "        Do not forget to tune the hyperparameters.\n",
    "\n",
    "        Parameters\n",
    "        ----------\n",
    "        algorithm : String,\n",
    "            \"PCA\", \"NMF\", default = \"PCA\"\n",
    "\n",
    "        \"\"\"\n",
    "        self.X_scaler.fit(self.X_train)\n",
    "        \n",
    "        # scaling the data in all cases, it may not be used during the fit later\n",
    "        self.X_train_sc = self.X_scaler.transform(self.X_train)\n",
    "        \n",
    "        self.X_test_sc = self.X_scaler.transform(self.X_test)\n",
    "        \n",
    "        if self.algorithm == \"PCA\":            \n",
    "            self.model = PCA(n_components=self.nb_compo)\n",
    "\n",
    "        elif self.algorithm == \"NMF\":\n",
    "            self.model = NMF(n_components=self.nb_compo)\n",
    "            \n",
    "        if self.scaling == True:\n",
    "            self.model.fit(self.X_train_sc)\n",
    "        else:\n",
    "            self.model.fit(self.X_train)\n",
    "\n",
    "    def predict(self,X):\n",
    "        \"\"\"Predict using the model.\n",
    "\n",
    "        Parameters\n",
    "        ----------\n",
    "        X : {array-like, sparse matrix}, shape = (n_samples, n_features)\n",
    "            Samples.\n",
    "\n",
    "        Returns\n",
    "        -------\n",
    "        C : array, shape = (n_samples,)\n",
    "            Returns predicted values.\n",
    "\n",
    "        Remark\n",
    "        ------\n",
    "        if self.scaling == \"yes\", scaling will be performed on the input X.\n",
    "        \"\"\"\n",
    "        if self.scaling == True:\n",
    "            X_sc = self.X_scaler.transform(X)\n",
    "            pred_sc = self.model.predict(X_sc)\n",
    "            return self.Y_scaler.inverse_transform(pred_sc.reshape(-1,1))\n",
    "        else:\n",
    "            return self.model.predict(self.X)\n"
   ]
  },
  {
   "cell_type": "code",
   "execution_count": 46,
   "metadata": {
    "scrolled": true
   },
   "outputs": [
    {
     "name": "stdout",
     "output_type": "stream",
     "text": [
      "Number of samples:100\n",
      "Shape of partial spectra matrix:(2, 600)\n",
      "Shape of concentration matrix:(100, 2)\n"
     ]
    },
    {
     "data": {
      "image/png": "[encoded data removed]",
      "text/plain": [
       "<Figure size 432x288 with 2 Axes>"
      ]
     },
     "metadata": {},
     "output_type": "display_data"
    }
   ],
   "source": [
    "x = np.arange(0,600,1.0)\n",
    "nb_samples = 100 # number of samples in our dataset\n",
    "\n",
    "S_1 = norm.pdf(x,loc=200.,scale=130.)\n",
    "S_2 = norm.pdf(x,loc=400,scale=70)\n",
    "S_true = np.vstack((S_1,S_2))\n",
    "print(\"Number of samples:\"+str(nb_samples))\n",
    "print(\"Shape of partial spectra matrix:\"+str(S_true.shape))\n",
    "\n",
    "C_ = np.random.rand(nb_samples) #60 samples with random concentrations between 0 and 1\n",
    "C_true = np.vstack((C_,(1-C_))).T\n",
    "print(\"Shape of concentration matrix:\"+str(C_true.shape))\n",
    "\n",
    "Obs = np.dot(C_true,S_true) + np.random.randn(nb_samples,len(x))*1e-4\n",
    "\n",
    "# norm is a class which, when called, can normalize data into the\n",
    "# [0.0, 1.0] interval.\n",
    "norm_ = matplotlib.colors.Normalize(\n",
    "    vmin=np.min(C_),\n",
    "    vmax=np.max(C_))\n",
    "\n",
    "# choose a colormap\n",
    "c_m = matplotlib.cm.jet\n",
    "\n",
    "# create a ScalarMappable and initialize a data structure\n",
    "s_m = matplotlib.cm.ScalarMappable(cmap=c_m, norm=norm_)\n",
    "s_m.set_array([])\n",
    "\n",
    "# plotting spectra\n",
    "# calling the ScalarMappable that was initialised with c_m and norm\n",
    "for i in range(C_.shape[0]):\n",
    "    plt.plot(x,\n",
    "             Obs[i,:].T,\n",
    "             color=s_m.to_rgba(C_[i]))\n",
    "\n",
    "# we plot the colorbar, using again our\n",
    "# ScalarMappable\n",
    "c_bar = plt.colorbar(s_m)\n",
    "c_bar.set_label(r\"C_\")\n",
    "\n",
    "plt.xlabel('X')\n",
    "plt.ylabel('Y')\n",
    "plt.show()"
   ]
  },
  {
   "cell_type": "code",
   "execution_count": 47,
   "metadata": {},
   "outputs": [],
   "source": [
    "explo = mlexplorer(Obs)"
   ]
  },
  {
   "cell_type": "code",
   "execution_count": 48,
   "metadata": {},
   "outputs": [],
   "source": [
    "explo.algorithm = 'NMF'"
   ]
  },
  {
   "cell_type": "code",
   "execution_count": 49,
   "metadata": {},
   "outputs": [],
   "source": [
    "explo.fit()"
   ]
  },
  {
   "cell_type": "code",
   "execution_count": null,
   "metadata": {},
   "outputs": [],
   "source": [
    "W = explo.model.transform(Obs)\n",
    "H = explo.model.components_"
   ]
  },
  {
   "cell_type": "code",
   "execution_count": 42,
   "metadata": {},
   "outputs": [
    {
     "data": {
      "text/plain": [
       "PCA(copy=True, iterated_power='auto', n_components=None, random_state=None,\n",
       "  svd_solver='auto', tol=0.0, whiten=False)"
      ]
     },
     "execution_count": 42,
     "metadata": {},
     "output_type": "execute_result"
    }
   ],
   "source": [
    "explo.model"
   ]
  },
  {
   "cell_type": "code",
   "execution_count": null,
   "metadata": {},
   "outputs": [],
   "source": []
  }
 ],
 "metadata": {
  "kernelspec": {
   "display_name": "Python 3",
   "language": "python",
   "name": "python3"
  },
  "language_info": {
   "codemirror_mode": {
    "name": "ipython",
    "version": 3
   },
   "file_extension": ".py",
   "mimetype": "text/x-python",
   "name": "python",
   "nbconvert_exporter": "python",
   "pygments_lexer": "ipython3",
   "version": "3.6.7"
  }
 },
 "nbformat": 4,
 "nbformat_minor": 2
}
